{
 "cells": [
  {
   "cell_type": "code",
   "execution_count": 1,
   "id": "6256956c",
   "metadata": {},
   "outputs": [
    {
     "name": "stdout",
     "output_type": "stream",
     "text": [
      "[[ 2  3  4]\n",
      " [ 5  6  7]\n",
      " [ 8  9 10]]\n"
     ]
    }
   ],
   "source": [
    "import numpy as np\n",
    "\n",
    "arr = np.array([[1, 2, 3], [4, 5, 6], [7, 8, 9]])\n",
    "\n",
    "print(arr + 1)"
   ]
  },
  {
   "cell_type": "code",
   "execution_count": 5,
   "id": "a9668af8",
   "metadata": {},
   "outputs": [
    {
     "name": "stdout",
     "output_type": "stream",
     "text": [
      "10\n",
      "42\n"
     ]
    }
   ],
   "source": [
    "arr = np.random.randint(5, 50, size=12)\n",
    "\n",
    "print(arr.min())\n",
    "print(arr.max())"
   ]
  },
  {
   "cell_type": "code",
   "execution_count": null,
   "id": "fc379fc5",
   "metadata": {},
   "outputs": [
    {
     "name": "stdout",
     "output_type": "stream",
     "text": [
      "[9 9 6 6 8 9 3 9 4 7 8 6 8 4 2]\n",
      "6.533333333333333\n",
      "7.0\n"
     ]
    }
   ],
   "source": [
    "arr = np.random.randint(1, 10, size=(3 , 4))\n",
    "print(arr)\n",
    "arr2 = np.mean(arr)\n",
    "print(arr.mean())\n",
    "arr1 = np.median(arr)\n",
    "print(arr1)"
   ]
  },
  {
   "cell_type": "code",
   "execution_count": 27,
   "id": "4d5926f6",
   "metadata": {},
   "outputs": [
    {
     "name": "stdout",
     "output_type": "stream",
     "text": [
      "22\n",
      "88\n"
     ]
    }
   ],
   "source": [
    "arr = np.random.randint(1, 100, size=(3 , 4))\n",
    "\n",
    "print(arr.min())\n",
    "print(arr.max())"
   ]
  },
  {
   "cell_type": "code",
   "execution_count": 34,
   "id": "5505b4b6",
   "metadata": {},
   "outputs": [
    {
     "name": "stdout",
     "output_type": "stream",
     "text": [
      "[[7 2 5 6]\n",
      " [1 8 2 6]\n",
      " [4 6 9 4]]\n",
      "[[ 8  3  6  7]\n",
      " [ 2  9  3  7]\n",
      " [ 5  7 10  5]]\n"
     ]
    }
   ],
   "source": [
    "arr = np.random.randint(1, 10, size=(3 , 4))\n",
    "print(arr)\n",
    "print(arr + 1 )"
   ]
  },
  {
   "cell_type": "code",
   "execution_count": 37,
   "id": "a72f209f",
   "metadata": {},
   "outputs": [
    {
     "name": "stdout",
     "output_type": "stream",
     "text": [
      "[[76 22 51 40]\n",
      " [70 43 30  7]\n",
      " [19 29 66 35]]\n",
      "[[5776  484 2601 1600]\n",
      " [4900 1849  900   49]\n",
      " [ 361  841 4356 1225]]\n"
     ]
    }
   ],
   "source": [
    "arr = np.random.randint(1, 100, size=(3 , 4))\n",
    "\n",
    "print(arr)\n",
    "\n",
    "print(arr * arr)"
   ]
  },
  {
   "cell_type": "code",
   "execution_count": null,
   "id": "d613f664",
   "metadata": {},
   "outputs": [],
   "source": []
  }
 ],
 "metadata": {
  "kernelspec": {
   "display_name": "venv",
   "language": "python",
   "name": "python3"
  },
  "language_info": {
   "codemirror_mode": {
    "name": "ipython",
    "version": 3
   },
   "file_extension": ".py",
   "mimetype": "text/x-python",
   "name": "python",
   "nbconvert_exporter": "python",
   "pygments_lexer": "ipython3",
   "version": "3.12.6"
  }
 },
 "nbformat": 4,
 "nbformat_minor": 5
}
