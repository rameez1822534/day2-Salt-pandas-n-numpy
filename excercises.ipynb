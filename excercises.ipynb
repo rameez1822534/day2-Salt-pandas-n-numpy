{
 "cells": [
  {
   "cell_type": "markdown",
   "id": "d9532126",
   "metadata": {},
   "source": [
    "1. Creating dataframes: Create a DataFrame with three columns: 'Name', 'Age', and 'Score'. Populate it with random data with five\n",
    "individuals.\n",
    "2. Indexing and slicing: Set the 'Name' column as the index of the DataFrame created in exercise 1. Then, slice the DataFrame to\n",
    "display information about individuals with ages greater than 25.\n",
    "3. Data type conversion: Convert the data type of the 'Score' column to float in the DataFrame created in exercise 1.\n",
    "4. Grouping and aggregation: Group the DataFrame from exercise 1 by the 'Age' column and calculate the mean score for each\n",
    "age group. (ensure there is at least 2 Ages that are the same in this dataset)\n"
   ]
  },
  {
   "cell_type": "code",
   "execution_count": null,
   "id": "c9be0d2f",
   "metadata": {},
   "outputs": [
    {
     "data": {
      "text/html": [
       "<div>\n",
       "<style scoped>\n",
       "    .dataframe tbody tr th:only-of-type {\n",
       "        vertical-align: middle;\n",
       "    }\n",
       "\n",
       "    .dataframe tbody tr th {\n",
       "        vertical-align: top;\n",
       "    }\n",
       "\n",
       "    .dataframe thead th {\n",
       "        text-align: right;\n",
       "    }\n",
       "</style>\n",
       "<table border=\"1\" class=\"dataframe\">\n",
       "  <thead>\n",
       "    <tr style=\"text-align: right;\">\n",
       "      <th></th>\n",
       "      <th>Age</th>\n",
       "      <th>Score</th>\n",
       "    </tr>\n",
       "    <tr>\n",
       "      <th>Name</th>\n",
       "      <th></th>\n",
       "      <th></th>\n",
       "    </tr>\n",
       "  </thead>\n",
       "  <tbody>\n",
       "    <tr>\n",
       "      <th>jacob</th>\n",
       "      <td>41</td>\n",
       "      <td>7.0</td>\n",
       "    </tr>\n",
       "    <tr>\n",
       "      <th>ahmad</th>\n",
       "      <td>35</td>\n",
       "      <td>9.0</td>\n",
       "    </tr>\n",
       "    <tr>\n",
       "      <th>robin</th>\n",
       "      <td>20</td>\n",
       "      <td>10.0</td>\n",
       "    </tr>\n",
       "    <tr>\n",
       "      <th>mohammad</th>\n",
       "      <td>25</td>\n",
       "      <td>6.0</td>\n",
       "    </tr>\n",
       "    <tr>\n",
       "      <th>ali</th>\n",
       "      <td>20</td>\n",
       "      <td>NaN</td>\n",
       "    </tr>\n",
       "    <tr>\n",
       "      <th>sara</th>\n",
       "      <td>45</td>\n",
       "      <td>NaN</td>\n",
       "    </tr>\n",
       "  </tbody>\n",
       "</table>\n",
       "</div>"
      ],
      "text/plain": [
       "          Age  Score\n",
       "Name                \n",
       "jacob      41    7.0\n",
       "ahmad      35    9.0\n",
       "robin      20   10.0\n",
       "mohammad   25    6.0\n",
       "ali        20    NaN\n",
       "sara       45    NaN"
      ]
     },
     "execution_count": 53,
     "metadata": {},
     "output_type": "execute_result"
    }
   ],
   "source": [
    "import pandas as pd\n",
    "\n",
    "# 1. Creating dataframes: Create a DataFrame with three columns: 'Name', 'Age', and 'Score'. Populate it with random data with five\n",
    "# individuals.\n",
    "df = pd.DataFrame({\n",
    "    'Name': [\"jacob\", \"ahmad\", \"robin\", \"mohammad\", \"ali\", \"sara\"],\n",
    "    'Age': [41, 35, 20, 25, 20, 45],\n",
    "    'Score': [7, 9, 10, 6,None,None]\n",
    "})\n",
    "\n",
    "df = df.set_index('Name')\n",
    "\n",
    "ages = df[df['Age'] > 25]\n",
    "\n",
    "df['Score'] = df['Score'].astype(float)\n",
    "\n",
    "aged = df.groupby('Age').mean()\n",
    "\n",
    "print(aged)"
   ]
  },
  {
   "cell_type": "code",
   "execution_count": 40,
   "id": "8975454e",
   "metadata": {},
   "outputs": [
    {
     "name": "stdout",
     "output_type": "stream",
     "text": [
      "          Age  Score\n",
      "Name                \n",
      "jacob      41    7.0\n",
      "ahmad      35    9.0\n",
      "robin      20   10.0\n",
      "mohammad   25    6.0\n",
      "ali        20    8.0\n",
      "sara       45    8.0\n"
     ]
    }
   ],
   "source": [
    "# 5. Handling missing data: Introduce some missing values (NaN) in the 'Score' column of the DataFrame from exercise 3. Use the\n",
    "# fillna() function to fill these missing values with the mean score\n",
    "\n",
    "df['Score'] = df['Score'].fillna(df['Score'].mean())\n",
    "print(df)"
   ]
  },
  {
   "cell_type": "code",
   "execution_count": null,
   "id": "8ef5745f",
   "metadata": {},
   "outputs": [
    {
     "name": "stdout",
     "output_type": "stream",
     "text": [
      "          Age Occupation\n",
      "Name                    \n",
      "jacob      41   Engineer\n",
      "ahmad      35     Doctor\n",
      "robin      20     Artist\n",
      "mohammad   25    Teacher\n",
      "ali        20    Student\n",
      "sara       45      Nurse\n",
      "          Age  Score\n",
      "Name                \n",
      "jacob      41    7.0\n",
      "ahmad      35    9.0\n",
      "robin      20   10.0\n",
      "mohammad   25    6.0\n",
      "ali        20    8.0\n",
      "sara       45    8.0\n"
     ]
    },
    {
     "data": {
      "text/html": [
       "<div>\n",
       "<style scoped>\n",
       "    .dataframe tbody tr th:only-of-type {\n",
       "        vertical-align: middle;\n",
       "    }\n",
       "\n",
       "    .dataframe tbody tr th {\n",
       "        vertical-align: top;\n",
       "    }\n",
       "\n",
       "    .dataframe thead th {\n",
       "        text-align: right;\n",
       "    }\n",
       "</style>\n",
       "<table border=\"1\" class=\"dataframe\">\n",
       "  <thead>\n",
       "    <tr style=\"text-align: right;\">\n",
       "      <th></th>\n",
       "      <th>Age</th>\n",
       "      <th>Score</th>\n",
       "      <th>Age</th>\n",
       "      <th>Occupation</th>\n",
       "    </tr>\n",
       "    <tr>\n",
       "      <th>Name</th>\n",
       "      <th></th>\n",
       "      <th></th>\n",
       "      <th></th>\n",
       "      <th></th>\n",
       "    </tr>\n",
       "  </thead>\n",
       "  <tbody>\n",
       "    <tr>\n",
       "      <th>jacob</th>\n",
       "      <td>41</td>\n",
       "      <td>7.0</td>\n",
       "      <td>41</td>\n",
       "      <td>Engineer</td>\n",
       "    </tr>\n",
       "    <tr>\n",
       "      <th>ahmad</th>\n",
       "      <td>35</td>\n",
       "      <td>9.0</td>\n",
       "      <td>35</td>\n",
       "      <td>Doctor</td>\n",
       "    </tr>\n",
       "    <tr>\n",
       "      <th>robin</th>\n",
       "      <td>20</td>\n",
       "      <td>10.0</td>\n",
       "      <td>20</td>\n",
       "      <td>Artist</td>\n",
       "    </tr>\n",
       "    <tr>\n",
       "      <th>mohammad</th>\n",
       "      <td>25</td>\n",
       "      <td>6.0</td>\n",
       "      <td>25</td>\n",
       "      <td>Teacher</td>\n",
       "    </tr>\n",
       "    <tr>\n",
       "      <th>ali</th>\n",
       "      <td>20</td>\n",
       "      <td>8.0</td>\n",
       "      <td>20</td>\n",
       "      <td>Student</td>\n",
       "    </tr>\n",
       "    <tr>\n",
       "      <th>sara</th>\n",
       "      <td>45</td>\n",
       "      <td>8.0</td>\n",
       "      <td>45</td>\n",
       "      <td>Nurse</td>\n",
       "    </tr>\n",
       "  </tbody>\n",
       "</table>\n",
       "</div>"
      ],
      "text/plain": [
       "          Age  Score  Age Occupation\n",
       "Name                                \n",
       "jacob      41    7.0   41   Engineer\n",
       "ahmad      35    9.0   35     Doctor\n",
       "robin      20   10.0   20     Artist\n",
       "mohammad   25    6.0   25    Teacher\n",
       "ali        20    8.0   20    Student\n",
       "sara       45    8.0   45      Nurse"
      ]
     },
     "execution_count": 52,
     "metadata": {},
     "output_type": "execute_result"
    }
   ],
   "source": [
    "# 6. Concatenation: Create another DataFrame with three columns: 'Name', 'Age', and 'Occupation' for five different individuals. Use\n",
    "# concat() to concatenate this new DataFrame with the one from exercise 1.\n",
    "\n",
    "import pandas as pd\n",
    "\n",
    "# Create a DataFrame with 3 columns\n",
    "df1 = pd.DataFrame({\n",
    "    'Name': [\"jacob\", \"ahmad\", \"robin\", \"mohammad\", \"ali\", \"sara\"],\n",
    "    'Age': [41, 35, 20, 25, 20, 45],\n",
    "    'Occupation': [\"Engineer\", \"Doctor\", \"Artist\", \"Teacher\", \"Student\", \"Nurse\"]\n",
    "})\n",
    "\n",
    "df1 = df1.set_index('Name')\n",
    "print(df1)\n",
    "print(df)\n",
    "\n",
    "df_concat = pd.concat([df, df1], axis=1)\n",
    "\n",
    "df_concat"
   ]
  },
  {
   "cell_type": "markdown",
   "id": "29948401",
   "metadata": {},
   "source": [
    "Merging: Create two DataFrames, one with 'ID', 'Name', and 'Age', and the other with 'ID', 'Occupation', and 'Salary'. Use merge()\n",
    "to merge these DataFrames based on the 'ID' column"
   ]
  },
  {
   "cell_type": "code",
   "execution_count": null,
   "id": "b69d9c9f",
   "metadata": {},
   "outputs": [
    {
     "name": "stdout",
     "output_type": "stream",
     "text": [
      "        Name  Age  Salary Occupation\n",
      "ID                                  \n",
      "1      jacob   41   41000   Engineer\n",
      "2      ahmad   35   35000     Doctor\n",
      "3      robin   20   20000     Artist\n",
      "4   mohammad   25   25000    Teacher\n",
      "5        ali   20   20000    Student\n",
      "6       sara   45   45000      Nurse\n"
     ]
    }
   ],
   "source": [
    "\n",
    "df = pd.DataFrame({\n",
    "    'ID': [1, 2, 3, 4, 5 , 6],\n",
    "    'Name': [\"jacob\", \"ahmad\", \"robin\", \"mohammad\", \"ali\", \"sara\"],\n",
    "    'Age': [41, 35, 20, 25, 20, 45],\n",
    "    })\n",
    "\n",
    "df1 = pd.DataFrame({\n",
    "    'ID': [1, 2, 3, 4, 5 , 6],\n",
    "    'Salary': [41000, 35000, 20000, 25000, 20000, 45000],\n",
    "    'Occupation': [\"Engineer\", \"Doctor\", \"Artist\", \"Teacher\", \"Student\", \"Nurse\"]\n",
    "})\n",
    "\n",
    "\n",
    "merge = pd.merge(df, df1)\n",
    "\n",
    "merge = merge.set_index('ID')\n",
    "\n",
    "print(merge)"
   ]
  },
  {
   "cell_type": "code",
   "execution_count": 71,
   "id": "49c612ef",
   "metadata": {},
   "outputs": [
    {
     "name": "stdout",
     "output_type": "stream",
     "text": [
      "datetime64[ns]\n"
     ]
    }
   ],
   "source": [
    "import pandas as pd\n",
    "\n",
    "#Creating a DataFrame manually\n",
    "data = {\n",
    "    'user_id': [101, 102, 103, 104, None],\n",
    "    'name': ['Alice', 'Bob', 'Charlie', 'David', 'Eve'],\n",
    "    'email': ['alice@example.com', 'bob@example.com', None, 'david@example.com', 'eve@example.com'],\n",
    "    'signup_date': ['2023-01-01', '2023-02-15', '2023-03-22', '2023-04-10', ''],\n",
    "    'purchase_amount': ['250.0', '300.5', 'not available', '150.75', '400.0']\n",
    "}\n",
    "df = pd.DataFrame(data)\n",
    "\n",
    "df['signup_date'] = df['signup_date'].astype('datetime64[ns]')\n",
    "\n",
    "dtyoe = df['signup_date'].dtypes \n",
    "\n",
    "print(dtyoe)\n"
   ]
  },
  {
   "cell_type": "code",
   "execution_count": 70,
   "id": "4f2c2786",
   "metadata": {},
   "outputs": [
    {
     "name": "stdout",
     "output_type": "stream",
     "text": [
      "datetime64[ns]\n"
     ]
    }
   ],
   "source": [
    "dtyoe = df['signup_date'].dtypes \n",
    "\n",
    "print(dtyoe)\n"
   ]
  },
  {
   "cell_type": "code",
   "execution_count": 77,
   "id": "8a8d9eb0",
   "metadata": {},
   "outputs": [
    {
     "data": {
      "text/html": [
       "<div>\n",
       "<style scoped>\n",
       "    .dataframe tbody tr th:only-of-type {\n",
       "        vertical-align: middle;\n",
       "    }\n",
       "\n",
       "    .dataframe tbody tr th {\n",
       "        vertical-align: top;\n",
       "    }\n",
       "\n",
       "    .dataframe thead th {\n",
       "        text-align: right;\n",
       "    }\n",
       "</style>\n",
       "<table border=\"1\" class=\"dataframe\">\n",
       "  <thead>\n",
       "    <tr style=\"text-align: right;\">\n",
       "      <th></th>\n",
       "      <th>user_id</th>\n",
       "      <th>name</th>\n",
       "      <th>email</th>\n",
       "      <th>Event_date</th>\n",
       "      <th>Real_amount</th>\n",
       "    </tr>\n",
       "  </thead>\n",
       "  <tbody>\n",
       "    <tr>\n",
       "      <th>0</th>\n",
       "      <td>101.0</td>\n",
       "      <td>Alice</td>\n",
       "      <td>alice@example.com</td>\n",
       "      <td>2023-01-01</td>\n",
       "      <td>250.0</td>\n",
       "    </tr>\n",
       "    <tr>\n",
       "      <th>1</th>\n",
       "      <td>102.0</td>\n",
       "      <td>Bob</td>\n",
       "      <td>bob@example.com</td>\n",
       "      <td>2023-02-15</td>\n",
       "      <td>300.5</td>\n",
       "    </tr>\n",
       "    <tr>\n",
       "      <th>2</th>\n",
       "      <td>103.0</td>\n",
       "      <td>Charlie</td>\n",
       "      <td>None</td>\n",
       "      <td>2023-03-22</td>\n",
       "      <td>not available</td>\n",
       "    </tr>\n",
       "    <tr>\n",
       "      <th>3</th>\n",
       "      <td>104.0</td>\n",
       "      <td>David</td>\n",
       "      <td>david@example.com</td>\n",
       "      <td>2023-04-10</td>\n",
       "      <td>150.75</td>\n",
       "    </tr>\n",
       "    <tr>\n",
       "      <th>4</th>\n",
       "      <td>NaN</td>\n",
       "      <td>Eve</td>\n",
       "      <td>eve@example.com</td>\n",
       "      <td>NaT</td>\n",
       "      <td>400.0</td>\n",
       "    </tr>\n",
       "  </tbody>\n",
       "</table>\n",
       "</div>"
      ],
      "text/plain": [
       "   user_id     name              email Event_date    Real_amount\n",
       "0    101.0    Alice  alice@example.com 2023-01-01          250.0\n",
       "1    102.0      Bob    bob@example.com 2023-02-15          300.5\n",
       "2    103.0  Charlie               None 2023-03-22  not available\n",
       "3    104.0    David  david@example.com 2023-04-10         150.75\n",
       "4      NaN      Eve    eve@example.com        NaT          400.0"
      ]
     },
     "execution_count": 77,
     "metadata": {},
     "output_type": "execute_result"
    }
   ],
   "source": [
    "df.rename(columns={'signup_date': 'Event_date', 'purchase_amount': 'Real_amount'}, inplace=True)\n",
    "\n",
    "df"
   ]
  },
  {
   "cell_type": "code",
   "execution_count": 80,
   "id": "ff88d2e5",
   "metadata": {},
   "outputs": [
    {
     "data": {
      "text/html": [
       "<div>\n",
       "<style scoped>\n",
       "    .dataframe tbody tr th:only-of-type {\n",
       "        vertical-align: middle;\n",
       "    }\n",
       "\n",
       "    .dataframe tbody tr th {\n",
       "        vertical-align: top;\n",
       "    }\n",
       "\n",
       "    .dataframe thead th {\n",
       "        text-align: right;\n",
       "    }\n",
       "</style>\n",
       "<table border=\"1\" class=\"dataframe\">\n",
       "  <thead>\n",
       "    <tr style=\"text-align: right;\">\n",
       "      <th></th>\n",
       "      <th>Age</th>\n",
       "    </tr>\n",
       "  </thead>\n",
       "  <tbody>\n",
       "    <tr>\n",
       "      <th>0</th>\n",
       "      <td>41</td>\n",
       "    </tr>\n",
       "    <tr>\n",
       "      <th>1</th>\n",
       "      <td>35</td>\n",
       "    </tr>\n",
       "    <tr>\n",
       "      <th>2</th>\n",
       "      <td>20</td>\n",
       "    </tr>\n",
       "    <tr>\n",
       "      <th>3</th>\n",
       "      <td>25</td>\n",
       "    </tr>\n",
       "  </tbody>\n",
       "</table>\n",
       "</div>"
      ],
      "text/plain": [
       "   Age\n",
       "0   41\n",
       "1   35\n",
       "2   20\n",
       "3   25"
      ]
     },
     "execution_count": 80,
     "metadata": {},
     "output_type": "execute_result"
    }
   ],
   "source": [
    "df1 = pd.DataFrame({\n",
    "    'Name': [\"jacob\", \"ahmad\", \"robin\", \"mohammad\", \"ali\", \"sara\"],\n",
    "    'Age': [41, 35, 20, 25, 20, 20],\n",
    "    'Occupation': [\"Engineer\", \"Doctor\", \"Artist\", \"Teacher\", \"Student\", \"Nurse\"]\n",
    "})\n",
    "df1 = df1['Age'].unique()\n",
    "df1 = pd.DataFrame(df1, columns=['Age'])\n",
    "df1"
   ]
  }
 ],
 "metadata": {
  "kernelspec": {
   "display_name": "venv",
   "language": "python",
   "name": "python3"
  },
  "language_info": {
   "codemirror_mode": {
    "name": "ipython",
    "version": 3
   },
   "file_extension": ".py",
   "mimetype": "text/x-python",
   "name": "python",
   "nbconvert_exporter": "python",
   "pygments_lexer": "ipython3",
   "version": "3.12.6"
  }
 },
 "nbformat": 4,
 "nbformat_minor": 5
}
