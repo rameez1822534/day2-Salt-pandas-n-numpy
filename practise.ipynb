{
 "cells": [
  {
   "cell_type": "code",
   "execution_count": null,
   "id": "edba7939",
   "metadata": {},
   "outputs": [],
   "source": [
    "import pandas as pd\n",
    "\n",
    "#Creating a DataFrame manually\n",
    "data = {\n",
    "    'user_id': [101, 102, 103, 104, None],\n",
    "    'name': ['Alice', 'Bob', 'Charlie', 'David', 'Eve'],\n",
    "    'email': ['alice@example.com', 'bob@example.com', None, 'david@example.com', 'eve@example.com'],\n",
    "    'signup_date': ['2023-01-01', '2023-02-15', '2023-03-22', '2023-04-10', ''],\n",
    "    'purchase_amount': ['250.0', '300.5', 'not available', '150.75', '400.0']\n",
    "}\n",
    "\n",
    "df = pd.DataFrame(data)\n",
    "print(\"Initial DataFrame:\")\n",
    "print(df)\n",
    "\n",
    "#Save this to a CSV\n",
    "df.to_csv('demo_users.csv', index=False)\n",
    "\n",
    "#Read it back\n",
    "df = pd.read_csv('demo_users.csv')\n",
    "print(\"Read CSV:\")\n",
    "print(df)\n",
    "\n",
    "#Convert 'signup_date' to datetime and handle errors\n",
    "df['signup_date'] = pd.to_datetime(df['signup_date'], errors='coerce')\n",
    "\n",
    "#Convert 'purchase_amount' to numeric (coerce errors like 'not available')\n",
    "df['purchase_amount'] = pd.to_numeric(df['purchase_amount'], errors='coerce')\n",
    "\n",
    "#Fill missing values\n",
    "df['user_id'] = df['user_id'].fillna(999).astype(int)\n",
    "df['purchase_amount'] = df['purchase_amount'].fillna(df['purchase_amount'].mean())\n",
    "df['email'] = df['email'].fillna('no_email@example.com')\n",
    "\n",
    "#Filter: Show only users who spent more than 250\n",
    "high_spenders = df[df['purchase_amount'] > 250]\n",
    "print(\"High spenders:\")\n",
    "print(high_spenders)\n",
    "\n",
    "#Group by: Count how many users signed up each month\n",
    "df['signup_month'] = df['signup_date'].dt.to_period('M')\n",
    "monthly_signups = df.groupby('signup_month').size()\n",
    "print(\"Monthly Signups:\")\n",
    "print(monthly_signups)\n",
    "\n",
    "#Save cleaned data\n",
    "df.to_csv('cleaned_demo_users.csv', index=False)\n"
   ]
  },
  {
   "cell_type": "code",
   "execution_count": null,
   "id": "abef0331",
   "metadata": {},
   "outputs": [],
   "source": []
  },
  {
   "cell_type": "code",
   "execution_count": null,
   "id": "bd9fe057",
   "metadata": {},
   "outputs": [],
   "source": []
  }
 ],
 "metadata": {
  "language_info": {
   "name": "python"
  }
 },
 "nbformat": 4,
 "nbformat_minor": 5
}
