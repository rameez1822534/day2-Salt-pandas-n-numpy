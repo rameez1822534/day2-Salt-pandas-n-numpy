{
 "cells": [
  {
   "cell_type": "code",
   "execution_count": null,
   "id": "60d2f1ec",
   "metadata": {},
   "outputs": [
    {
     "name": "stdout",
     "output_type": "stream",
     "text": [
      "Name: Harold White\n",
      "Email: emily98@example.net\n"
     ]
    }
   ],
   "source": [
    "from faker import Faker\n",
    "\n",
    "# Create a Faker generator\n",
    "fake = Faker()\n",
    "\n",
    "# Generate a single fake name and email\n",
    "name = fake.name()\n",
    "email = fake.email()\n",
    "\n",
    "\n"
   ]
  },
  {
   "cell_type": "code",
   "execution_count": null,
   "id": "bf9c280c",
   "metadata": {},
   "outputs": [
    {
     "name": "stdout",
     "output_type": "stream",
     "text": [
      "JSON file created with fake user data.\n"
     ]
    }
   ],
   "source": [
    "import json\n",
    "import numpy as np\n",
    "from faker import Faker\n",
    "from datetime import datetime, timedelta\n",
    "\n",
    "fake = Faker()\n",
    "\n",
    "# Number of fake users to generate\n",
    "num_users = 10\n",
    "\n",
    "# Generate fake data\n",
    "data = []\n",
    "start_date = datetime(2020, 1, 1)  # Starting point for fake dates\n",
    "\n",
    "for i in range(num_users):\n",
    "    # Generate a random number of days to add (between 0 and 1000)\n",
    "    random_days = np.random.randint(0, 1000)\n",
    "    fake_date = start_date + timedelta(days=int(random_days))\n",
    "    \n",
    "    user = {\n",
    "        \"user_id\": int(np.random.randint(1000, 9999)),  # Random user ID between 1000 and 9999\n",
    "        \"name\": fake.name(),\n",
    "        \"email\": fake.email(),\n",
    "        \"date\": fake_date.strftime(\"%Y-%m-%d\")  # Format date as string\n",
    "    }\n",
    "    data.append(user)\n",
    "\n",
    "# Write to JSON file\n",
    "with open(\"fake_users.json\", \"w\") as f:\n",
    "    json.dump(data, f, indent=4)\n",
    "\n",
    "\n"
   ]
  }
 ],
 "metadata": {
  "kernelspec": {
   "display_name": "venv",
   "language": "python",
   "name": "python3"
  },
  "language_info": {
   "codemirror_mode": {
    "name": "ipython",
    "version": 3
   },
   "file_extension": ".py",
   "mimetype": "text/x-python",
   "name": "python",
   "nbconvert_exporter": "python",
   "pygments_lexer": "ipython3",
   "version": "3.12.6"
  }
 },
 "nbformat": 4,
 "nbformat_minor": 5
}
